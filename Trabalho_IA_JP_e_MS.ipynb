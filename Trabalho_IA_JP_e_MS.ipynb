{
  "nbformat": 4,
  "nbformat_minor": 0,
  "metadata": {
    "colab": {
      "provenance": [],
      "include_colab_link": true
    },
    "kernelspec": {
      "name": "python3",
      "display_name": "Python 3"
    },
    "language_info": {
      "name": "python"
    }
  },
  "cells": [
    {
      "cell_type": "markdown",
      "metadata": {
        "id": "view-in-github",
        "colab_type": "text"
      },
      "source": [
        "<a href=\"https://colab.research.google.com/github/Msspiccolo/Trabalho-IA_Recomendacao/blob/main/Trabalho_IA_JP_e_MS.ipynb\" target=\"_parent\"><img src=\"https://colab.research.google.com/assets/colab-badge.svg\" alt=\"Open In Colab\"/></a>"
      ]
    },
    {
      "cell_type": "code",
      "execution_count": null,
      "metadata": {
        "id": "CjH8A5DYeI9I"
      },
      "outputs": [],
      "source": [
        "\n",
        "Animes = [\n",
        "    {\"Tema\": [\"Fantasia\", \"Medieval\", \"Ficção\", \"Esporte\", \"etc\"]},\n",
        "    {\"Trama\": [\"Slice-of-Life\", \"Drama\", \"Ação\", \"Thriller\", \"etc\"]},\n",
        "    {\"Categoria\": [\"Shounen\", \"Shoujo\", \"Seinen\", \"Josei\", \"etc\"]},\n",
        "    {\"Diretores\": [\"Diretor A\", \"Diretor B\", \"Diretor C\", \"etc\"]},\n",
        "    {\"Inspiração\": [\"Baseado em Livro, séries, filmes\", \"Original\"]},\n",
        "    {\"Relevância\": [\"Alta\", \"Média\", \"Baixa\"]},\n",
        "]\n",
        "\n",
        "\n",
        "regras = [\n",
        "    {\"Condição\": {\"Tema\": \"Fantasia\", \"Trama\": \"Drama\", \"Categoria\": \"Shounen\", \"Inspiração\": \"Original\"}, \"Recomendação\": [\"Anime A\"]},\n",
        "    {\"Condição\": {\"Tema\": \"Medieval\", \"Trama\": \"Ação\", \"Categoria\": \"Shoujo\", \"Inspiração\": \"Baseado em Livro, séries, filmes\"}, \"Recomendação\": [\"Anime B\"]},\n",
        "    {\"Condição\": {\"Tema\": \"Ficção\", \"Trama\": \"Thriller\", \"Categoria\": \"Seinen\", \"Inspiração\": \"Original\"}, \"Recomendação\": [\"Anime C\"]},\n",
        "    {\"Condição\": {\"Tema\": \"Esporte\", \"Trama\": \"Slice-of-Life\", \"Categoria\": \"Shounen\", \"Inspiração\": \"Original\"}, \"Recomendação\": [\"Anime D\"]},\n",
        "    {\"Condição\": {\"Tema\": \"Fantasia\", \"Trama\": \"Ação\", \"Categoria\": \"Josei\", \"Inspiração\": \"Baseado em Livro, séries, filmes\"}, \"Recomendação\": [\"Anime E\"]},\n",
        "    {\"Condição\": {\"Tema\": \"Medieval\", \"Trama\": \"Drama\", \"Categoria\": \"Seinen\", \"Inspiração\": \"Original\"}, \"Recomendação\": [\"Anime F\"]},\n",
        "    {\"Condição\": {\"Tema\": \"Ficção\", \"Trama\": \"Thriller\", \"Categoria\": \"Shounen\", \"Inspiração\": \"Baseado em Livro, séries, filmes\"}, \"Recomendação\": [\"Anime G\"]},\n",
        "    {\"Condição\": {\"Tema\": \"Esporte\", \"Trama\": \"Ação\", \"Categoria\": \"Shoujo\", \"Inspiração\": \"Original\"}, \"Recomendação\": [\"Anime H\"]},\n",
        "]\n",
        "\n"
      ]
    },
    {
      "cell_type": "code",
      "source": [
        "def recomendar_animes(preferencias):\n",
        "    recomendacoes = []\n",
        "    for regra in regras:\n",
        "        condicao = regra[\"Condição\"]\n",
        "        if (preferencias[\"Tema\"] == condicao[\"Tema\"] and\n",
        "            preferencias[\"Trama\"] == condicao[\"Trama\"] and\n",
        "            preferencias[\"Categoria\"] == condicao[\"Categoria\"] and\n",
        "            preferencias[\"Inspiração\"] == condicao[\"Inspiração\"]):\n",
        "            recomendacoes.extend(regra[\"Recomendação\"])\n",
        "    return recomendacoes\n"
      ],
      "metadata": {
        "id": "paQFjmBAen9M"
      },
      "execution_count": null,
      "outputs": []
    },
    {
      "cell_type": "code",
      "source": [
        "def main():\n",
        "\n",
        "    Tema = input(\"Qual Tema de anime você prefere? \")\n",
        "    Trama = input(\"Qual a sua trama favorita? \")\n",
        "    Categoria = input(\"Qual a sua categoria preferida? \")\n",
        "    Inspiracao = input(\"Você prefere obras originais ou baseadas em algo? \")\n",
        "\n",
        "\n",
        "    preferencias = {\n",
        "        \"Tema\": Tema,\n",
        "        \"Trama\": Trama,\n",
        "        \"Categoria\": Categoria,\n",
        "        \"Inspiração\": Inspiracao,\n",
        "    }\n",
        "\n",
        "\n",
        "    animes_recomendados = recomendar_animes(preferencias)\n",
        "\n",
        "    if animes_recomendados:\n",
        "        print(\"Animes Recomendados:\")\n",
        "        for anime in animes_recomendados:\n",
        "            print(f\"- {anime}\")\n",
        "    else:\n",
        "        print(\"Nenhuma recomendação disponível para suas preferências.\")\n",
        "\n",
        "if __name__ == \"__main__\":\n",
        "    main()\n"
      ],
      "metadata": {
        "id": "VVGk2FB3er-3",
        "colab": {
          "base_uri": "https://localhost:8080/"
        },
        "outputId": "b40a8c2a-dd2e-40c6-9031-d15ae1709069"
      },
      "execution_count": null,
      "outputs": [
        {
          "output_type": "stream",
          "name": "stdout",
          "text": [
            "Qual Tema de anime você prefere? fantasia\n",
            "Qual a sua trama favorita? drama\n",
            "Qual a sua categoria preferida? shounen\n",
            "Você prefere obras originais ou baseadas em algo? originais\n",
            "Nenhuma recomendação disponível para suas preferências.\n"
          ]
        }
      ]
    }
  ]
}